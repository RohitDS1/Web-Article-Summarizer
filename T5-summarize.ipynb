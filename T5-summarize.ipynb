{
 "cells": [
  {
   "cell_type": "markdown",
   "metadata": {},
   "source": [
    "### Sample usage of a summarizer PT model "
   ]
  },
  {
   "cell_type": "markdown",
   "metadata": {},
   "source": [
    "    About the Model:\n",
    "    - Model Name: \"t5-base-finetuned-summarize-news\"\n",
    "    - Origin: The base model is Google's T5, which is designed as a unified transformer architecture capable \n",
    "      of converting every language problem into a text-to-text format.\n",
    "    \n",
    "    How It Works:\n",
    "    - This class initializes with the specific tokenizer and model from the mentioned pretrained version.\n",
    "    - The T5 framework views every NLP task as a text-to-text problem, thereby allowing for seamless \n",
    "      transfer learning across diverse NLP tasks.\n",
    "    \n",
    "    Why Use This Model:\n",
    "    - Transfer Learning: T5 is based on the principle of transfer learning where a model is pre-trained on a \n",
    "      data-rich task and then fine-tuned for specific downstream tasks. This method has proven to be highly \n",
    "      effective in NLP.\n",
    "    - State-of-the-Art Results: As per the original paper \"Exploring the Limits of Transfer Learning with a Unified\n",
    "      Text-to-Text Transformer\", combining T5 with large-scale datasets (like the \"Colossal Clean Crawled Corpus\") \n",
    "      achieves state-of-the-art results on multiple NLP benchmarks including summarization, question answering, \n",
    "      text classification, etc.\n",
    "    - Adaptability: The unified text-to-text framework of T5 makes it adaptable to a wide range of NLP tasks with \n",
    "      minimal changes.\n",
    "    \n",
    "    Reference:\n",
    "    Colin Raffel, Noam Shazeer, Adam Roberts, Katherine Lee, Sharan Narang, Michael Matena, Yanqi Zhou, Wei Li, \n",
    "    Peter J. Liu. \"Exploring the Limits of Transfer Learning with a Unified Text-to-Text Transformer\"."
   ]
  },
  {
   "cell_type": "code",
   "execution_count": 3,
   "metadata": {},
   "outputs": [
    {
     "name": "stderr",
     "output_type": "stream",
     "text": [
      "C:\\Users\\User\\AppData\\Local\\Programs\\Python\\Python311\\Lib\\site-packages\\transformers\\models\\auto\\modeling_auto.py:1423: FutureWarning: The class `AutoModelWithLMHead` is deprecated and will be removed in a future version. Please use `AutoModelForCausalLM` for causal language models, `AutoModelForMaskedLM` for masked language models and `AutoModelForSeq2SeqLM` for encoder-decoder models.\n",
      "  warnings.warn(\n"
     ]
    },
    {
     "data": {
      "text/plain": [
       "'at a private funeral in Houston on Tuesday. Floyd, who was 46, was found'"
      ]
     },
     "execution_count": 3,
     "metadata": {},
     "output_type": "execute_result"
    }
   ],
   "source": [
    "from transformers import AutoModelWithLMHead, AutoTokenizer\n",
    "\n",
    "tokenizer = AutoTokenizer.from_pretrained(\"mrm8488/t5-base-finetuned-summarize-news\")\n",
    "model = AutoModelWithLMHead.from_pretrained(\"mrm8488/t5-base-finetuned-summarize-news\")\n",
    "\n",
    "def summarize(text, max_length=150):\n",
    "  input_ids = tokenizer.encode(text, return_tensors=\"pt\", add_special_tokens=True)\n",
    "\n",
    "  generated_ids = model.generate(input_ids=input_ids, num_beams=2, max_length=max_length,  repetition_penalty=2.5, length_penalty=1.0, early_stopping=True)\n",
    "\n",
    "  preds = [tokenizer.decode(g, skip_special_tokens=True, clean_up_tokenization_spaces=True) for g in generated_ids]\n",
    "\n",
    "  return preds[0]\n",
    "\n",
    "sample = 'After the sound and the fury, weeks of demonstrations and anguished calls for racial justice, the man whose death gave rise to an international movement, and whose last words — “I can’t breathe” — have been a rallying cry, will be laid to rest on Tuesday at a private funeral in Houston.George Floyd, who was 46, will then be buried in a grave next to his mother’s.The service, scheduled to begin at 11 a.m. at the Fountain of Praise church, comes after five days of public memorials in Minneapolis, North Carolina and Houston and two weeks after a Minneapolis police officer was caught on video pressing his knee into Mr. Floyd’s neck for nearly nine minutes before Mr. Floyd died. That officer, Derek Chauvin, has been charged with second-degree murder and second-degree manslaughter. His bail was set at $1.25 million in a court appearance on Monday. The outpouring of anger and outrage after Mr. Floyd’s death — and the speed at which protests spread from tense, chaotic demonstrations in the city where he died to an international movement from Rome to Rio de Janeiro — has reflected the depth of frustration borne of years of watching black people die at the hands of the police or vigilantes while calls for change went unmet.'\n",
    "summarize(sample, 20)"
   ]
  },
  {
   "cell_type": "code",
   "execution_count": 6,
   "metadata": {},
   "outputs": [
    {
     "data": {
      "text/plain": [
       "\"Earnings and Revenue Apple is expected to be around $2.70, according to sell-side analysts. Sales will likely be near $61.1 billion. In the same quarter last year, Apple EPS was $2.10 on revenue of $52.8 billion. The stock's strength of this rating has maintained conviction over the past three months.\""
      ]
     },
     "execution_count": 6,
     "metadata": {},
     "output_type": "execute_result"
    }
   ],
   "source": [
    "summarize(\"\"\"On Tuesday, Apple (NASDAQ:AAPL) will release its latest earnings report. \n",
    "Decipher the announcement with Benzinga's help. \n",
    "Earnings and Revenue Apple EPS is expected to be around $2.70, according to sell-side analysts. \n",
    "Sales will likely be near $61.1 billion. In the same quarter last year, \n",
    "Apple reported EPS of $2.10 on revenue of $52.8 billion. \n",
    "The analyst consensus estimate would represent a 28.57 percent increase in the company's EPS figure. \n",
    "Revenue would be have grown 15.68 percent from the same quarter last year. \n",
    "Apple's reported EPS has stacked up against analyst estimates in the past like this: \n",
    "Quarter Q1 2018 Q4 2017 Q3 2017 Q2 2017 EPS Estimate 3.77 1.87 1.57 2.02 EPS Actual 3.89 1.97 1.67 2.1 Stock Performance Over the last 52-week period, \n",
    "shares of Apple are up 15.04 percent. \n",
    "Analyst estimates are adjusted higher for EPS and revenues over the past 90 days. \n",
    "The most common rating from analysts on Apple stock is a Neutral. \n",
    "The strength of this rating has maintained conviction over the past three months. \n",
    "Conference Call Apple's Q2 is scheduled to hold a conference call at 5:00 p.m. ET and it can be accessed here.\"\"\"\n",
    ",80)"
   ]
  }
 ],
 "metadata": {
  "kernelspec": {
   "display_name": "Python 3 (ipykernel)",
   "language": "python",
   "name": "python3"
  },
  "language_info": {
   "codemirror_mode": {
    "name": "ipython",
    "version": 3
   },
   "file_extension": ".py",
   "mimetype": "text/x-python",
   "name": "python",
   "nbconvert_exporter": "python",
   "pygments_lexer": "ipython3",
   "version": "3.11.2"
  }
 },
 "nbformat": 4,
 "nbformat_minor": 4
}
