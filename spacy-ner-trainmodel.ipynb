{
 "cells": [
  {
   "cell_type": "code",
   "execution_count": 1,
   "id": "b76a1ddb",
   "metadata": {
    "execution": {
     "iopub.execute_input": "2023-07-29T08:38:04.121407Z",
     "iopub.status.busy": "2023-07-29T08:38:04.120688Z",
     "iopub.status.idle": "2023-07-29T08:38:04.131992Z",
     "shell.execute_reply": "2023-07-29T08:38:04.131143Z"
    },
    "papermill": {
     "duration": 0.020635,
     "end_time": "2023-07-29T08:38:04.134026",
     "exception": false,
     "start_time": "2023-07-29T08:38:04.113391",
     "status": "completed"
    },
    "tags": []
   },
   "outputs": [],
   "source": [
    "import json\n",
    "import pandas as pd"
   ]
  },
  {
   "cell_type": "code",
   "execution_count": 2,
   "id": "1dd08e05",
   "metadata": {
    "execution": {
     "iopub.execute_input": "2023-07-29T08:38:04.142976Z",
     "iopub.status.busy": "2023-07-29T08:38:04.142279Z",
     "iopub.status.idle": "2023-07-29T08:38:04.609249Z",
     "shell.execute_reply": "2023-07-29T08:38:04.608312Z"
    },
    "papermill": {
     "duration": 0.473632,
     "end_time": "2023-07-29T08:38:04.611467",
     "exception": false,
     "start_time": "2023-07-29T08:38:04.137835",
     "status": "completed"
    },
    "tags": []
   },
   "outputs": [
    {
     "data": {
      "text/plain": [
       "12942"
      ]
     },
     "execution_count": 2,
     "metadata": {},
     "output_type": "execute_result"
    }
   ],
   "source": [
    "with open('/kaggle/input/benzinga-news/benzinga.json', \"r\") as file:\n",
    "    newsfeeds = json.load(file)\n",
    "len(newsfeeds)"
   ]
  },
  {
   "cell_type": "code",
   "execution_count": 3,
   "id": "84e12ab9",
   "metadata": {
    "execution": {
     "iopub.execute_input": "2023-07-29T08:38:04.621243Z",
     "iopub.status.busy": "2023-07-29T08:38:04.620364Z",
     "iopub.status.idle": "2023-07-29T08:38:04.627089Z",
     "shell.execute_reply": "2023-07-29T08:38:04.626067Z"
    },
    "papermill": {
     "duration": 0.014297,
     "end_time": "2023-07-29T08:38:04.629723",
     "exception": false,
     "start_time": "2023-07-29T08:38:04.615426",
     "status": "completed"
    },
    "tags": []
   },
   "outputs": [
    {
     "data": {
      "text/plain": [
       "{'created': '2018-05-01',\n",
       " 'title': \"21 Stocks Moving In Tuesday's Pre-Market Session\",\n",
       " 'body': \"Gainers Heat Biologics, Inc. (NASDAQ:HTBX) rose 44.9 percent to $3.10 in pre-market trading after climbing 87.72 percent on Monday. Inogen, Inc. (NASDAQ:INGN) rose 25.2 percent to $175.99 in pre-market trading following its first-quarter earnings report that saw FY18 sales guidance raised. Earnings came in at 48 cents per share, up from 27 cents per share last year. Sales came in at $79.1 million, beating estimates by $15 million. Karyopharm Therapeutics Inc. (NASDAQ:KPTI) rose 23.9 percent to $16.20 in pre-market trading following positive trial data from STORM study for selinexor. Nutrisystem, Inc. (NASDAQ:NTRI) shares rose 10.5 percent to $32.05 in pre-market trading after reporting better-than-expected Q1 earnings. Electronics for Imaging, Inc. (NASDAQ:EFII) rose 9.3 percent to $30.27 in pre-market trading following Q1 sales beat. Harmonic Inc. (NASDAQ:HLIT) rose 8.2 percent to $3.95 in pre-market trading following upbeat quarterly earnings. Intellia Therapeutics, Inc. (NASDAQ:NTLA) shares rose 7.8 percent to $21.59 in pre-market trading after reporting Q1 results. Tonix Pharmaceuticals Holding Corp. (NASDAQ:TNXP) shares rose 6.7 percent to $3.33 in pre-market trading after the company received IND clearance by the U.S. FDA for TNX-102 SL in agitation in Alzheimer's disease. Eloxx Pharmaceuticals, Inc. (NASDAQ:ELOX) rose 6.8 percent to $13.10 in pre-market trading. Eloxx Pharmaceuticals reported completion of public offering of common stock and exercise in full of underwriters’ option to purchase additional shares. Tenet Healthcare Corporation (NYSE:THC) rose 5.7 percent to $25.30 in pre-market trading after the company reported stronger-than-expected results for its first quarter and raised its forecast for the year. Allison Transmission Holdings, Inc. (NYSE:ALSN) shares rose 3.5 percent to $40.35 in pre-market trading after reporting upbeat results for its first quarter on Monday. Find out what's going on in today's market and bring any questions you have to Benzinga's PreMarket Prep. Check out these big penny stock gainers and losers Losers Intevac, Inc. (NASDAQ:IVAC) fell 20.7 percent to $5.20 in pre-market trading after reporting a first-quarter sales miss. Cognex Corporation (NASDAQ:CGNX) fell 16.1 percent to $38.81 in pre-market trading following Q1 miss and downbeat Q2 sales guidance. AzurRx BioPharma, Inc. (NASDAQ:AZRX) shares fell 12 percent to $2.49 in pre-market trading after reporting an offering of common shares. Tapestry, Inc. (NYSE:TPR) shares fell 11.5 percent to $47.57 in pre-market trading after reporting Q3 results. Genprex, Inc. (NASDAQ:GNPX) fell 10.5 percent to $13.87 in pre-market trading after rising 1.84 percent on Monday. KLX Inc. (NASDAQ:KLXI) fell 7.8 percent to $72.17 in pre-market trading. Boeing Company (NYSE:BA) announced plans to acquire KLX for $4.25 billion. Intelsat S.A. (NYSE:I) fell 6.4 percent to $9.15 in pre-market trading following downbeat quarterly earnings. Archrock, Inc. (NYSE:AROC) fell 6.4 percent to $10.10 in pre-market trading after dropping 3.57 percent on Monday. Sinovac Biotech Ltd. (NASDAQ:SVA) shares fell 4.2 percent to $7.34 in pre-market trading. Sinovac has been forced to temporarily suspend flu vaccine production due to disruptive actions taken by minority shareholder of Sinovac Beijing. Cronos Group Inc. (NASDAQ:CRON) fell 4.1 percent to $6.63 in pre-market trading after gaining 1.62 percent on Monday.\",\n",
       " 'id': 0}"
      ]
     },
     "execution_count": 3,
     "metadata": {},
     "output_type": "execute_result"
    }
   ],
   "source": [
    "newsfeeds[0]"
   ]
  },
  {
   "cell_type": "code",
   "execution_count": 4,
   "id": "b522a95e",
   "metadata": {
    "execution": {
     "iopub.execute_input": "2023-07-29T08:38:04.638782Z",
     "iopub.status.busy": "2023-07-29T08:38:04.638517Z",
     "iopub.status.idle": "2023-07-29T08:38:18.660463Z",
     "shell.execute_reply": "2023-07-29T08:38:18.658360Z"
    },
    "papermill": {
     "duration": 14.028988,
     "end_time": "2023-07-29T08:38:18.662596",
     "exception": false,
     "start_time": "2023-07-29T08:38:04.633608",
     "status": "completed"
    },
    "tags": []
   },
   "outputs": [
    {
     "name": "stderr",
     "output_type": "stream",
     "text": [
      "/opt/conda/lib/python3.10/site-packages/scipy/__init__.py:146: UserWarning: A NumPy version >=1.16.5 and <1.23.0 is required for this version of SciPy (detected version 1.23.5\n",
      "  warnings.warn(f\"A NumPy version >={np_minversion} and <{np_maxversion}\"\n",
      "/opt/conda/lib/python3.10/site-packages/tensorflow_io/python/ops/__init__.py:98: UserWarning: unable to load libtensorflow_io_plugins.so: unable to open file: libtensorflow_io_plugins.so, from paths: ['/opt/conda/lib/python3.10/site-packages/tensorflow_io/python/ops/libtensorflow_io_plugins.so']\n",
      "caused by: ['/opt/conda/lib/python3.10/site-packages/tensorflow_io/python/ops/libtensorflow_io_plugins.so: undefined symbol: _ZN3tsl6StatusC1EN10tensorflow5error4CodeESt17basic_string_viewIcSt11char_traitsIcEENS_14SourceLocationE']\n",
      "  warnings.warn(f\"unable to load libtensorflow_io_plugins.so: {e}\")\n",
      "/opt/conda/lib/python3.10/site-packages/tensorflow_io/python/ops/__init__.py:104: UserWarning: file system plugins are not loaded: unable to open file: libtensorflow_io.so, from paths: ['/opt/conda/lib/python3.10/site-packages/tensorflow_io/python/ops/libtensorflow_io.so']\n",
      "caused by: ['/opt/conda/lib/python3.10/site-packages/tensorflow_io/python/ops/libtensorflow_io.so: undefined symbol: _ZTVN10tensorflow13GcsFileSystemE']\n",
      "  warnings.warn(f\"file system plugins are not loaded: {e}\")\n"
     ]
    },
    {
     "name": "stdout",
     "output_type": "stream",
     "text": [
      "Working on GPU\n"
     ]
    }
   ],
   "source": [
    "import spacy\n",
    "\n",
    "nlp = spacy.load(\"en_core_web_sm\")\n",
    "if spacy.prefer_gpu():\n",
    "    print(\"Working on GPU\")\n",
    "else:\n",
    "    print(\"Working on CPU\")"
   ]
  },
  {
   "cell_type": "code",
   "execution_count": 5,
   "id": "225528bc",
   "metadata": {
    "execution": {
     "iopub.execute_input": "2023-07-29T08:38:18.674355Z",
     "iopub.status.busy": "2023-07-29T08:38:18.672358Z",
     "iopub.status.idle": "2023-07-29T08:59:02.741321Z",
     "shell.execute_reply": "2023-07-29T08:59:02.740296Z"
    },
    "papermill": {
     "duration": 1244.077103,
     "end_time": "2023-07-29T08:59:02.744122",
     "exception": false,
     "start_time": "2023-07-29T08:38:18.667019",
     "status": "completed"
    },
    "tags": []
   },
   "outputs": [],
   "source": [
    "news_data = []\n",
    "for i in range(len(newsfeeds)):\n",
    "    news_data.append(newsfeeds[i]['body'])\n",
    "\n",
    "train_data = []\n",
    "# Extract five required labels\n",
    "for text in news_data:\n",
    "    doc = nlp(text)\n",
    "    for sent in doc.sents:\n",
    "        entities = []\n",
    "        for ent in sent.ents:\n",
    "            if ent.label_ in [\"PERSON\", \"GPE\", \"ORG\", \"PERCENT\", \"EVENT\"]:\n",
    "                # Calculate start and end character positions relative to the sentence, not the whole document\n",
    "                start_char = ent.start_char - sent.start_char\n",
    "                end_char = ent.end_char - sent.start_char\n",
    "                entities.append((start_char, end_char, ent.label_))\n",
    "        if entities:\n",
    "            train_data.append((sent.text, {\"entities\": entities}))\n"
   ]
  },
  {
   "cell_type": "code",
   "execution_count": 6,
   "id": "2962ca47",
   "metadata": {
    "execution": {
     "iopub.execute_input": "2023-07-29T08:59:02.756124Z",
     "iopub.status.busy": "2023-07-29T08:59:02.754458Z",
     "iopub.status.idle": "2023-07-29T19:45:26.556074Z",
     "shell.execute_reply": "2023-07-29T19:45:26.555054Z"
    },
    "papermill": {
     "duration": 38783.809803,
     "end_time": "2023-07-29T19:45:26.558677",
     "exception": false,
     "start_time": "2023-07-29T08:59:02.748874",
     "status": "completed"
    },
    "tags": []
   },
   "outputs": [
    {
     "name": "stderr",
     "output_type": "stream",
     "text": [
      "[2023-07-29 08:59:04,566] [INFO] Created vocabulary\n",
      "[2023-07-29 08:59:04,567] [INFO] Finished initializing nlp object\n",
      "[2023-07-29 08:59:16,319] [INFO] Created vocabulary\n",
      "[2023-07-29 08:59:16,320] [INFO] Finished initializing nlp object\n",
      "/opt/conda/lib/python3.10/site-packages/spacy/training/iob_utils.py:149: UserWarning: [W030] Some entities could not be aligned in the text \"Market Reaction Regardless of the reason for the t...\" with entities \"[(68, 72, 'ORG'), (92, 96, 'ORG'), (97, 100, 'ORG'...\". Use `spacy.training.offsets_to_biluo_tags(nlp.make_doc(text), entities)` to check the alignment. Misaligned entities ('-') will be ignored during training.\n",
      "  warnings.warn(\n",
      "/opt/conda/lib/python3.10/site-packages/spacy/training/iob_utils.py:149: UserWarning: [W030] Some entities could not be aligned in the text \"Movers Indices S&P 500 ETF (NYSE:SPY) rose 2.79% t...\" with entities \"[(0, 22, 'ORG'), (28, 32, 'ORG'), (33, 36, 'ORG'),...\". Use `spacy.training.offsets_to_biluo_tags(nlp.make_doc(text), entities)` to check the alignment. Misaligned entities ('-') will be ignored during training.\n",
      "  warnings.warn(\n",
      "/opt/conda/lib/python3.10/site-packages/spacy/training/iob_utils.py:149: UserWarning: [W030] Some entities could not be aligned in the text \"FTSE/\" with entities \"[(0, 4, 'ORG')]\". Use `spacy.training.offsets_to_biluo_tags(nlp.make_doc(text), entities)` to check the alignment. Misaligned entities ('-') will be ignored during training.\n",
      "  warnings.warn(\n",
      "/opt/conda/lib/python3.10/site-packages/spacy/training/iob_utils.py:149: UserWarning: [W030] Some entities could not be aligned in the text \"iShares FTSE/\" with entities \"[(8, 12, 'ORG')]\". Use `spacy.training.offsets_to_biluo_tags(nlp.make_doc(text), entities)` to check the alignment. Misaligned entities ('-') will be ignored during training.\n",
      "  warnings.warn(\n",
      "/opt/conda/lib/python3.10/site-packages/spacy/training/iob_utils.py:149: UserWarning: [W030] Some entities could not be aligned in the text \"The SPDR S&P 500 ETF Trust (NYSE:SPY) is now down ...\" with entities \"[(4, 8, 'ORG'), (28, 32, 'ORG'), (33, 36, 'ORG'), ...\". Use `spacy.training.offsets_to_biluo_tags(nlp.make_doc(text), entities)` to check the alignment. Misaligned entities ('-') will be ignored during training.\n",
      "  warnings.warn(\n"
     ]
    },
    {
     "name": "stdout",
     "output_type": "stream",
     "text": [
      "Iteration 10: Losses {'ner': 165160.3046384073}\n",
      "Iteration 20: Losses {'ner': 157999.82423298375}\n",
      "Iteration 30: Losses {'ner': 155137.87941017025}\n"
     ]
    }
   ],
   "source": [
    "import spacy\n",
    "import random\n",
    "from spacy.training.example import Example\n",
    "from spacy.util import minibatch, compounding\n",
    "\n",
    "nlp = spacy.blank(\"en\")  # start with a blank Language class\n",
    "nlp.add_pipe('ner')\n",
    "\n",
    "ner = nlp.get_pipe(\"ner\")\n",
    "\n",
    "# Adding labels\n",
    "for _, annotations in train_data:\n",
    "    for ent in annotations.get(\"entities\"):\n",
    "        ner.add_label(ent[2])\n",
    "\n",
    "# Initialize the weights and vocabulary\n",
    "nlp.initialize()\n",
    "\n",
    "random.seed(0)\n",
    "spacy.util.fix_random_seed(0)\n",
    "\n",
    "# Disable other components for training\n",
    "unaffected_pipes = [pipe for pipe in nlp.pipe_names if pipe != 'ner']\n",
    "with nlp.disable_pipes(*unaffected_pipes):\n",
    "\n",
    "    optimizer = nlp.initialize()\n",
    "\n",
    "    for itn in range(35):\n",
    "        random.shuffle(train_data)\n",
    "        losses = {}\n",
    "        batches = minibatch(train_data, size=compounding(4., 32., 1.001))\n",
    "        for batch in batches:\n",
    "            texts, annotations = zip(*batch)\n",
    "            examples = [Example.from_dict(nlp.make_doc(text), annot) for text, annot in zip(texts, annotations)]\n",
    "            nlp.update(examples, sgd=optimizer, drop=0.5, losses=losses) \n",
    "        # print every 10 loop\n",
    "        if (itn + 1) % 10 == 0:\n",
    "            print(f'Iteration {itn + 1}: Losses', losses)\n"
   ]
  },
  {
   "cell_type": "code",
   "execution_count": 7,
   "id": "e292fdbe",
   "metadata": {
    "execution": {
     "iopub.execute_input": "2023-07-29T19:45:26.571551Z",
     "iopub.status.busy": "2023-07-29T19:45:26.571186Z",
     "iopub.status.idle": "2023-07-29T19:45:26.844759Z",
     "shell.execute_reply": "2023-07-29T19:45:26.843780Z"
    },
    "papermill": {
     "duration": 0.282566,
     "end_time": "2023-07-29T19:45:26.847224",
     "exception": false,
     "start_time": "2023-07-29T19:45:26.564658",
     "status": "completed"
    },
    "tags": []
   },
   "outputs": [],
   "source": [
    "# Save the model\n",
    "output_dir = \"./model\"\n",
    "nlp.to_disk(output_dir)"
   ]
  },
  {
   "cell_type": "code",
   "execution_count": 8,
   "id": "bf691754",
   "metadata": {
    "execution": {
     "iopub.execute_input": "2023-07-29T19:45:26.860917Z",
     "iopub.status.busy": "2023-07-29T19:45:26.860607Z",
     "iopub.status.idle": "2023-07-29T19:45:26.866310Z",
     "shell.execute_reply": "2023-07-29T19:45:26.865151Z"
    },
    "papermill": {
     "duration": 0.015228,
     "end_time": "2023-07-29T19:45:26.868748",
     "exception": false,
     "start_time": "2023-07-29T19:45:26.853520",
     "status": "completed"
    },
    "tags": []
   },
   "outputs": [],
   "source": [
    "\n",
    "# nlp = spacy.load(\"en_core_web_sm\")\n",
    "# ner = nlp.get_pipe(\"ner\")\n",
    "\n",
    "# for _, annotations in train_data:\n",
    "#     for ent in annotations.get(\"entities\"):\n",
    "#         ner.add_label(ent[2])\n",
    "\n",
    "# # Fixed random seed for reproducibility\n",
    "# random.seed(0)\n",
    "# spacy.util.fix_random_seed(0)\n",
    "\n",
    "# # Disable other components for training\n",
    "# unaffected_pipes = [pipe for pipe in nlp.pipe_names if pipe != 'ner']\n",
    "# with nlp.disable_pipes(*unaffected_pipes):\n",
    "\n",
    "#     # Reduced number of iterations\n",
    "#     for itn in range(50):\n",
    "#         random.shuffle(train_data)\n",
    "#         losses = {}\n",
    "#         # Larger initial batch size\n",
    "#         batches = minibatch(train_data, size=compounding(16., 64., 1.5))\n",
    "#         for batch in batches:\n",
    "#             texts, annotations = zip(*batch)\n",
    "#             examples = [Example.from_dict(nlp.make_doc(text), annot) for text, annot in zip(texts, annotations)]\n",
    "#             nlp.update(examples, drop=0.5, losses=losses) \n",
    "#         # print every loop\n",
    "#         print(f'Iteration {itn + 1}: Losses', losses)\n",
    "\n",
    "#         # Early stopping: stop if no improvement in last 10 iterations\n",
    "#         if itn > 10 and losses['ner'] >= previous_losses['ner']:\n",
    "#             break\n",
    "#         previous_losses = losses\n",
    "\n",
    "# # Export the trained model\n",
    "# nlp.to_disk(\"./my_model\")\n"
   ]
  },
  {
   "cell_type": "code",
   "execution_count": 9,
   "id": "4005d0cf",
   "metadata": {
    "execution": {
     "iopub.execute_input": "2023-07-29T19:45:26.881025Z",
     "iopub.status.busy": "2023-07-29T19:45:26.880496Z",
     "iopub.status.idle": "2023-07-29T19:45:26.884810Z",
     "shell.execute_reply": "2023-07-29T19:45:26.883938Z"
    },
    "papermill": {
     "duration": 0.012582,
     "end_time": "2023-07-29T19:45:26.886839",
     "exception": false,
     "start_time": "2023-07-29T19:45:26.874257",
     "status": "completed"
    },
    "tags": []
   },
   "outputs": [],
   "source": [
    "# import spacy\n",
    "# from spacy.pipeline import EntityRecognizer\n",
    "\n",
    "# # nlp = spacy.load(\"en_core_web_sm\")\n",
    "# nlp = spacy.load(\"en_core_web_md\")\n"
   ]
  },
  {
   "cell_type": "code",
   "execution_count": 10,
   "id": "b9799539",
   "metadata": {
    "execution": {
     "iopub.execute_input": "2023-07-29T19:45:26.898787Z",
     "iopub.status.busy": "2023-07-29T19:45:26.898523Z",
     "iopub.status.idle": "2023-07-29T19:45:26.902572Z",
     "shell.execute_reply": "2023-07-29T19:45:26.901689Z"
    },
    "papermill": {
     "duration": 0.012168,
     "end_time": "2023-07-29T19:45:26.904539",
     "exception": false,
     "start_time": "2023-07-29T19:45:26.892371",
     "status": "completed"
    },
    "tags": []
   },
   "outputs": [],
   "source": [
    "# # use first 20 articles to assure sufficient train data, data of one article is too small\n",
    "# news_data = []\n",
    "# for i in range(len(newsfeeds)):\n",
    "#     news_data.append( newsfeeds[i]['body'])\n",
    "    \n",
    "# train_data = []\n",
    "# # extract three required labels\n",
    "# for text in news_data:\n",
    "#     for sent in nlp(text).sents:\n",
    "#         entities = []\n",
    "#         for ent in sent.ents:\n",
    "#             if ent.label_ in [\"PERSON\", \"GPE\", \"ORG\"]:\n",
    "#                 entities.append((ent.start_char, ent.end_char, ent.label_))\n",
    "\n",
    "#         if entities:\n",
    "#             train_data.append((sent.text, {\"entities\": entities}))"
   ]
  },
  {
   "cell_type": "code",
   "execution_count": 11,
   "id": "ecb69658",
   "metadata": {
    "execution": {
     "iopub.execute_input": "2023-07-29T19:45:26.916538Z",
     "iopub.status.busy": "2023-07-29T19:45:26.916241Z",
     "iopub.status.idle": "2023-07-29T19:45:26.921140Z",
     "shell.execute_reply": "2023-07-29T19:45:26.920188Z"
    },
    "papermill": {
     "duration": 0.013189,
     "end_time": "2023-07-29T19:45:26.923144",
     "exception": false,
     "start_time": "2023-07-29T19:45:26.909955",
     "status": "completed"
    },
    "tags": []
   },
   "outputs": [],
   "source": [
    "# import spacy\n",
    "# import random\n",
    "# from spacy.training.example import Example\n",
    "# from spacy.util import minibatch, compounding\n",
    "\n",
    "# nlp = spacy.load(\"en_core_web_sm\")\n",
    "# ner = nlp.get_pipe(\"ner\")\n",
    "\n",
    "# for _, annotations in train_data:\n",
    "#     for ent in annotations.get(\"entities\"):\n",
    "#         ner.add_label(ent[2])\n",
    "\n",
    "# # Fixed random seed for reproducibility\n",
    "# random.seed(0)\n",
    "# spacy.util.fix_random_seed(0)\n",
    "\n",
    "# # Disable other components for training\n",
    "# unaffected_pipes = [pipe for pipe in nlp.pipe_names if pipe != 'ner']\n",
    "# with nlp.disable_pipes(*unaffected_pipes):\n",
    "    \n",
    "#     for itn in range(150):\n",
    "#         random.shuffle(train_data)\n",
    "#         losses = {}\n",
    "#         batches = minibatch(train_data, size=compounding(4., 32., 1.001))\n",
    "#         for batch in batches:\n",
    "#             texts, annotations = zip(*batch)\n",
    "#             examples = [Example.from_dict(nlp.make_doc(text), annot) for text, annot in zip(texts, annotations)]\n",
    "#             nlp.update(examples, drop=0.5, losses=losses) \n",
    "#         # print every 10 loop\n",
    "#         if (itn + 1) % 10 == 0:\n",
    "#             print(f'Iteration {itn + 1}: Losses', losses)"
   ]
  },
  {
   "cell_type": "code",
   "execution_count": 12,
   "id": "05b4a209",
   "metadata": {
    "execution": {
     "iopub.execute_input": "2023-07-29T19:45:26.935701Z",
     "iopub.status.busy": "2023-07-29T19:45:26.934981Z",
     "iopub.status.idle": "2023-07-29T19:45:26.939129Z",
     "shell.execute_reply": "2023-07-29T19:45:26.938325Z"
    },
    "papermill": {
     "duration": 0.012393,
     "end_time": "2023-07-29T19:45:26.940942",
     "exception": false,
     "start_time": "2023-07-29T19:45:26.928549",
     "status": "completed"
    },
    "tags": []
   },
   "outputs": [],
   "source": [
    "# nlp.to_disk(\"./spacy-ner-mdoel\")"
   ]
  },
  {
   "cell_type": "code",
   "execution_count": 13,
   "id": "1d052d54",
   "metadata": {
    "execution": {
     "iopub.execute_input": "2023-07-29T19:45:26.953175Z",
     "iopub.status.busy": "2023-07-29T19:45:26.952912Z",
     "iopub.status.idle": "2023-07-29T19:45:26.958076Z",
     "shell.execute_reply": "2023-07-29T19:45:26.957248Z"
    },
    "papermill": {
     "duration": 0.01366,
     "end_time": "2023-07-29T19:45:26.960133",
     "exception": false,
     "start_time": "2023-07-29T19:45:26.946473",
     "status": "completed"
    },
    "tags": []
   },
   "outputs": [],
   "source": [
    "# nlp = spacy.load(\"./spacy-ner-mdoel\")\n",
    "\n",
    "# doc = nlp(\"This is a sample text.\")\n",
    "# for ent in doc.ents:\n",
    "#     print(ent.text, ent.start_char, ent.end_char, ent.label_)"
   ]
  }
 ],
 "metadata": {
  "kernelspec": {
   "display_name": "Python 3",
   "language": "python",
   "name": "python3"
  },
  "language_info": {
   "codemirror_mode": {
    "name": "ipython",
    "version": 3
   },
   "file_extension": ".py",
   "mimetype": "text/x-python",
   "name": "python",
   "nbconvert_exporter": "python",
   "pygments_lexer": "ipython3",
   "version": "3.10.12"
  },
  "papermill": {
   "default_parameters": {},
   "duration": 40055.276412,
   "end_time": "2023-07-29T19:45:29.862878",
   "environment_variables": {},
   "exception": null,
   "input_path": "__notebook__.ipynb",
   "output_path": "__notebook__.ipynb",
   "parameters": {},
   "start_time": "2023-07-29T08:37:54.586466",
   "version": "2.4.0"
  }
 },
 "nbformat": 4,
 "nbformat_minor": 5
}
