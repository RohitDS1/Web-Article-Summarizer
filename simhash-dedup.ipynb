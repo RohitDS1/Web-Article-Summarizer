{
 "cells": [
  {
   "cell_type": "code",
   "execution_count": 47,
   "id": "2dd0a50b-4469-4dfd-aa24-96ed7628c1e8",
   "metadata": {},
   "outputs": [],
   "source": [
    "import json\n",
    "import pandas as pd"
   ]
  },
  {
   "cell_type": "code",
   "execution_count": 48,
   "id": "5b32bb21-d0a8-4941-85dd-9adb91625271",
   "metadata": {
    "scrolled": true
   },
   "outputs": [
    {
     "data": {
      "text/plain": [
       "14072"
      ]
     },
     "execution_count": 48,
     "metadata": {},
     "output_type": "execute_result"
    }
   ],
   "source": [
    "df = pd.read_csv('benzinga.csv')\n",
    "newsfeeds = df.to_json(orient='records')\n",
    "newsfeeds = json.loads(newsfeeds)\n",
    "len(newsfeeds)"
   ]
  },
  {
   "cell_type": "code",
   "execution_count": 49,
   "id": "fa71d41c-512f-4c90-b9ad-874e63b28a79",
   "metadata": {},
   "outputs": [],
   "source": [
    "from gensim.models import KeyedVectors\n",
    "from simhash import Simhash, SimhashIndex\n",
    "import numpy as np"
   ]
  },
  {
   "cell_type": "code",
   "execution_count": 50,
   "id": "bc2d5188-3ad9-4ad0-a276-f4f2c21ce2c9",
   "metadata": {},
   "outputs": [],
   "source": [
    "# omit the loeading messages, unlike the class exercise\n",
    "model_w2v_AP = KeyedVectors.load_word2vec_format('GoogleNews-vectors-negative300.bin.gz', binary=True)"
   ]
  },
  {
   "cell_type": "code",
   "execution_count": 51,
   "id": "1532a697-ccb1-42f5-b3bc-ccf42896dd14",
   "metadata": {},
   "outputs": [],
   "source": [
    "# function calculates similarity between two strings using a particular word vector model\n",
    "def calc_similarity(input1, input2, vectors):\n",
    "    s1words = set(vocab_check(vectors, input1.split()))\n",
    "    s2words = set(vocab_check(vectors, input2.split()))\n",
    "    \n",
    "    output = vectors.n_similarity(s1words, s2words)\n",
    "    return output"
   ]
  },
  {
   "cell_type": "code",
   "execution_count": 52,
   "id": "3278f673-adfb-4f26-8244-2af03d70456c",
   "metadata": {},
   "outputs": [],
   "source": [
    "# Get a subset of 100 Webhose titles assign index values\n",
    "feeds = []\n",
    "i = 0\n",
    "for feed in newsfeeds[:]:\n",
    "    feed['id'] = i\n",
    "    #print(feed['id'], str(feed['title']))\n",
    "    i += 1\n",
    "    feeds.append(feed)"
   ]
  },
  {
   "cell_type": "code",
   "execution_count": 53,
   "id": "28cb4268-8946-4350-bd43-e86e8d5a7f68",
   "metadata": {},
   "outputs": [],
   "source": [
    "import logging\n",
    "logging.getLogger('simhash').setLevel(logging.CRITICAL)\n",
    "\n",
    "hamming_distance = 10\n",
    "objs = [(str(feed['id']), Simhash(str(feed['title']))) for feed in feeds]\n",
    "index = SimhashIndex(objs, k=hamming_distance)"
   ]
  },
  {
   "cell_type": "code",
   "execution_count": 54,
   "id": "3dff6a4d-20f0-4e94-9cc7-6cad81a5d626",
   "metadata": {},
   "outputs": [],
   "source": [
    "# this list keeps the first occurance of duplicated titles\n",
    "list_dupi = set()\n",
    "i = 0\n",
    "\n",
    "# loop to find all the duplicate\n",
    "while i < len(feeds):\n",
    "    feed_hash = Simhash(str(feeds[i]['title']))\n",
    "    dup_indices = index.get_near_dups(feed_hash)\n",
    "    if dup_indices:\n",
    "        dup_indices = sorted(set([int(ind) for ind in dup_indices]))\n",
    "        list_dupi.update( dup_indices[1:] )\n",
    "    i+=1\n",
    "    if i in list_dupi:\n",
    "        i+=1"
   ]
  },
  {
   "cell_type": "code",
   "execution_count": 55,
   "id": "85c4fa07-9d41-490f-90df-9b6ff8b6f782",
   "metadata": {},
   "outputs": [
    {
     "data": {
      "text/plain": [
       "1130"
      ]
     },
     "execution_count": 55,
     "metadata": {},
     "output_type": "execute_result"
    }
   ],
   "source": [
    "len(list_dupi)"
   ]
  },
  {
   "cell_type": "code",
   "execution_count": 66,
   "id": "2f365aff",
   "metadata": {},
   "outputs": [
    {
     "name": "stdout",
     "output_type": "stream",
     "text": [
      "Original (4103): 7 Stocks To Watch For October 27, 2020\n",
      "Duplicate (7559): 7 Stocks To Watch For October 27, 2021\n",
      "Similarity Score: 1.00, Distance in id: 3456\n",
      "------------------------------------------------------------\n",
      "Original (4104): What Does Microsoft's Debt Look Like?\n",
      "Duplicate (3532): How Does Microsoft's Debt Look?\n",
      "Similarity Score: 0.91, Distance in id: 572\n",
      "------------------------------------------------------------\n",
      "Original (10249): Citigroup, Bank of America And 48 Stocks Moving In Friday's Mid-Day Session\n",
      "Duplicate (3496): 70 Stocks Moving In Friday's Mid-Day Session\n",
      "Similarity Score: 0.88, Distance in id: 6753\n",
      "------------------------------------------------------------\n",
      "Original (4108): Earnings Scheduled For October 27, 2020\n",
      "Duplicate (4027): Earnings Scheduled For October 14, 2020\n",
      "Similarity Score: 1.00, Distance in id: 81\n",
      "------------------------------------------------------------\n",
      "Original (2061): Stocks That Hit 52-Week Highs On Wednesday\n",
      "Duplicate (2448): Stocks That Hit 52-Week Highs On Wednesday\n",
      "Similarity Score: 1.00, Distance in id: 387\n",
      "------------------------------------------------------------\n",
      "Original (4109): PreMarket Prep Stock Of The Day: Shopify\n",
      "Duplicate (4761): PreMarket Prep Stock Of The Day: Apple\n",
      "Similarity Score: 0.87, Distance in id: 652\n",
      "------------------------------------------------------------\n",
      "Original (10255): Earnings Scheduled For July 15, 2022\n",
      "Duplicate (3356): Earnings Scheduled For July 15, 2020\n",
      "Similarity Score: 1.00, Distance in id: 6899\n",
      "------------------------------------------------------------\n",
      "Original (6160): 5 Stocks To Watch For June 28, 2021\n",
      "Duplicate (6160): 5 Stocks To Watch For June 28, 2021\n",
      "Similarity Score: 1.00, Distance in id: 0\n",
      "------------------------------------------------------------\n",
      "Original (12305): Walmart And These 2 Other Stocks Insiders Are Selling\n",
      "Duplicate (9471): American Express And 2 Other Stocks Insiders Are Selling\n",
      "Similarity Score: 0.92, Distance in id: 2834\n",
      "------------------------------------------------------------\n",
      "Original (10259): Why Cannabis Companies Traded Higher; Here's 60 Biggest Movers From Yesterday\n",
      "Duplicate (3533): 78 Biggest Movers From Yesterday\n",
      "Similarity Score: 0.82, Distance in id: 6726\n",
      "------------------------------------------------------------\n"
     ]
    }
   ],
   "source": [
    "counter = 0\n",
    "max_prints = 10\n",
    "\n",
    "for id in list_dupi:\n",
    "    original = str(feeds[id]['title'])\n",
    "    duplicates = [int(dup_id) for dup_id in index.get_near_dups(Simhash(original)) if int(dup_id) < len(feeds)]\n",
    "    if not duplicates:\n",
    "        continue\n",
    "    \n",
    "    duplicate_id = duplicates[0]\n",
    "    duplicate = str(feeds[duplicate_id]['title'])\n",
    "    \n",
    "    similarity_score = calc_similarity(original, duplicate, model_w2v_AP)\n",
    "\n",
    "    print(f\"Original ({id}): {original}\")\n",
    "    print(f\"Duplicate ({duplicate_id}): {duplicate}\")\n",
    "    print(f\"Similarity Score: {similarity_score:.2f}, Distance in id: {abs(id-duplicate_id)}\")\n",
    "    print(\"-\" * 60)\n",
    "    \n",
    "    counter += 1\n",
    "    \n",
    "    if counter >= max_prints:\n",
    "        break\n"
   ]
  },
  {
   "cell_type": "markdown",
   "id": "98d35fa8",
   "metadata": {},
   "source": [
    "Observations:\n",
    "\n",
    "- The titles identified as duplicates have high similarity scores, often > 0.8. \n",
    "- However, a closer examination of the titles shows that they often refer to different dates or different subjects. \n",
    "  For example, the titles '7 Stocks To Watch For October 27, 2020' and '7 Stocks To Watch For October 27, 2021' are \n",
    "  almost identical but refer to different years. Similarly, 'PreMarket Prep Stock Of The Day: Shopify' and \n",
    "  'PreMarket Prep Stock Of The Day: Apple' are about different stocks.\n",
    "- Additionally, the distance in ID between purported duplicates is often substantial. Large gaps in IDs suggest \n",
    "  that the titles are from articles published at significantly different times, reinforcing the idea that these \n",
    "  are not true duplicates but rather recurrent topics covered by Benzinga over time.\n",
    "\n",
    "Conclusion:\n",
    "\n",
    "The original dataset obtained from the Benzinga API seems to be well-organized. Although there are titles with \n",
    "high similarity scores, the content differences and the ID gaps suggest that the dataset has been competently \n",
    "deduplicated. Users can have confidence in the uniqueness of articles sourced from this API."
   ]
  },
  {
   "cell_type": "code",
   "execution_count": 58,
   "id": "60f6739c-72fc-4108-9610-6b549ccc5737",
   "metadata": {},
   "outputs": [],
   "source": [
    "# Since nothing needs to be deduplicated, below is not used\n",
    "\n",
    "# feeds = [feed for feed in feeds if int(feed['id']) not in list_dupi]\n",
    "# print(len(feeds))\n",
    "\n",
    "# file_path = \"benzinga.json\"\n",
    "\n",
    "# with open(file_path, \"w\") as file:\n",
    "#     json.dump(feeds, file)"
   ]
  }
 ],
 "metadata": {
  "kernelspec": {
   "display_name": "Python 3 (ipykernel)",
   "language": "python",
   "name": "python3"
  },
  "language_info": {
   "codemirror_mode": {
    "name": "ipython",
    "version": 3
   },
   "file_extension": ".py",
   "mimetype": "text/x-python",
   "name": "python",
   "nbconvert_exporter": "python",
   "pygments_lexer": "ipython3",
   "version": "3.11.2"
  }
 },
 "nbformat": 4,
 "nbformat_minor": 5
}
